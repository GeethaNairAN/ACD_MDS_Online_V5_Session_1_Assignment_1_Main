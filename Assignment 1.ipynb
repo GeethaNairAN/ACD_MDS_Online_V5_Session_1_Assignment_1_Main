{
 "cells": [
  {
   "cell_type": "code",
   "execution_count": 1,
   "metadata": {},
   "outputs": [
    {
     "name": "stdout",
     "output_type": "stream",
     "text": [
      "[5 0 3 3 7 9]\n",
      "[[3 5 2 4]\n",
      " [7 6 8 8]\n",
      " [1 6 7 7]]\n",
      "[[[8 1 5 9 8]\n",
      "  [9 4 3 0 3]\n",
      "  [5 0 2 3 8]\n",
      "  [1 3 3 3 7]]\n",
      "\n",
      " [[0 1 9 9 0]\n",
      "  [4 7 3 2 7]\n",
      "  [2 0 0 4 5]\n",
      "  [5 6 8 4 1]]\n",
      "\n",
      " [[4 9 8 1 1]\n",
      "  [7 9 9 3 6]\n",
      "  [7 2 0 3 5]\n",
      "  [9 4 4 6 4]]]\n"
     ]
    }
   ],
   "source": [
    "#Install Jupyter notebook and run the first program and share the screenshot of the output\n",
    "import numpy as np\n",
    "np.random.seed(0)\n",
    "x1=np.random.randint(10,size=6)\n",
    "x2=np.random.randint(10,size=(3, 4))\n",
    "x3=np.random.randint(10,size=(3, 4, 5))\n",
    "print(x1)\n",
    "print(x2)\n",
    "print(x3) "
   ]
  },
  {
   "cell_type": "code",
   "execution_count": 3,
   "metadata": {},
   "outputs": [
    {
     "name": "stdout",
     "output_type": "stream",
     "text": [
      "The Numbers between 2000 and 3200 divisible by 7, but not a multiple of 5 are:  2002,2009,2016,2023,2037,2044,2051,2058,2072,2079,2086,2093,2107,2114,2121,2128,2142,2149,2156,2163,2177,2184,2191,2198,2212,2219,2226,2233,2247,2254,2261,2268,2282,2289,2296,2303,2317,2324,2331,2338,2352,2359,2366,2373,2387,2394,2401,2408,2422,2429,2436,2443,2457,2464,2471,2478,2492,2499,2506,2513,2527,2534,2541,2548,2562,2569,2576,2583,2597,2604,2611,2618,2632,2639,2646,2653,2667,2674,2681,2688,2702,2709,2716,2723,2737,2744,2751,2758,2772,2779,2786,2793,2807,2814,2821,2828,2842,2849,2856,2863,2877,2884,2891,2898,2912,2919,2926,2933,2947,2954,2961,2968,2982,2989,2996,3003,3017,3024,3031,3038,3052,3059,3066,3073,3087,3094,3101,3108,3122,3129,3136,3143,3157,3164,3171,3178,3192,3199\n"
     ]
    }
   ],
   "source": [
    "#Program to find and print all numbers between 2000 and 3200 that are divisible by 7, not a multiple of 5\n",
    "#Using a string to display the numbers:\n",
    "# numstr is the string variable to hold the numbers for display.\n",
    "numstr=''\n",
    "\n",
    "''' \n",
    "Iterate from 2000 to 3201 incrementing the value by 1 every time. \n",
    "3201 is used so as to include 3200 as well in the calculation. \n",
    "'''\n",
    "\n",
    "for val in range(2000,3201,1):\n",
    "    if (val % 7 == 0) and (val % 5 > 0):\n",
    "        newval=str(val)+','\n",
    "        numstr=numstr+newval\n",
    "        \n",
    "#Remove the comma at the end.\n",
    "newstr=numstr[:-1]\n",
    "print('The Numbers between 2000 and 3200 divisible by 7, but not a multiple of 5 are: ',newstr)\n"
   ]
  },
  {
   "cell_type": "code",
   "execution_count": 4,
   "metadata": {},
   "outputs": [
    {
     "name": "stdout",
     "output_type": "stream",
     "text": [
      "The Numbers between 2000 and 3200 divisible by 7, but not a multiple of 5 are:  [2002, 2009, 2016, 2023, 2037, 2044, 2051, 2058, 2072, 2079, 2086, 2093, 2107, 2114, 2121, 2128, 2142, 2149, 2156, 2163, 2177, 2184, 2191, 2198, 2212, 2219, 2226, 2233, 2247, 2254, 2261, 2268, 2282, 2289, 2296, 2303, 2317, 2324, 2331, 2338, 2352, 2359, 2366, 2373, 2387, 2394, 2401, 2408, 2422, 2429, 2436, 2443, 2457, 2464, 2471, 2478, 2492, 2499, 2506, 2513, 2527, 2534, 2541, 2548, 2562, 2569, 2576, 2583, 2597, 2604, 2611, 2618, 2632, 2639, 2646, 2653, 2667, 2674, 2681, 2688, 2702, 2709, 2716, 2723, 2737, 2744, 2751, 2758, 2772, 2779, 2786, 2793, 2807, 2814, 2821, 2828, 2842, 2849, 2856, 2863, 2877, 2884, 2891, 2898, 2912, 2919, 2926, 2933, 2947, 2954, 2961, 2968, 2982, 2989, 2996, 3003, 3017, 3024, 3031, 3038, 3052, 3059, 3066, 3073, 3087, 3094, 3101, 3108, 3122, 3129, 3136, 3143, 3157, 3164, 3171, 3178, 3192, 3199]\n"
     ]
    }
   ],
   "source": [
    "#Program to find and print all numbers between 2000 and 3200 that are divisible by 7, not a multiple of 5\n",
    "#Using a List to hold and display the numbers:\n",
    "# numstr is the string variable to hold the numbers for display.\n",
    "numlist=[]\n",
    "\n",
    "''' \n",
    "Iterate from 2000 to 3201 incrementing the value by 1 every time. \n",
    "3201 is used so as to include 3200 as well in the calculation. \n",
    "'''\n",
    "for val in range(2000,3201,1):\n",
    "    if (val % 7 == 0) and (val % 5 > 0):\n",
    "        numlist.append(val)\n",
    "print('The Numbers between 2000 and 3200 divisible by 7, but not a multiple of 5 are: ', numlist)"
   ]
  },
  {
   "cell_type": "code",
   "execution_count": 8,
   "metadata": {},
   "outputs": [
    {
     "name": "stdout",
     "output_type": "stream",
     "text": [
      "Enter your First Name : Geetha\n",
      "Enter your Last Name : Nair\n",
      "The reversed name is:  ahteeG riaN\n"
     ]
    }
   ],
   "source": [
    "#Accept the first and last name of the user and print them in the reverse order. \n",
    "# Fname gets the first name and Lname gets the last name. \n",
    "# Assuming that reverse order means the characters of the first and last are to be reversed. \n",
    "Fname=input('Enter your First Name : ')\n",
    "Lname=input(\"Enter your Last Name : \")\n",
    "\n",
    "# Create lists to hold First and Last name characters \n",
    "FnameList=list(Fname)\n",
    "LnameList=list(Lname)\n",
    "\n",
    "# Reverse the characters in the first and last name. \n",
    "FnameList.reverse()\n",
    "LnameList.reverse()\n",
    "\n",
    "# String the characters back from the reverse list of first name and reverse list of last name. \n",
    "FnameRev=''\n",
    "LnameRev=''\n",
    "for char in FnameList:\n",
    "    FnameRev=FnameRev+char\n",
    "for char in LnameList:\n",
    "    LnameRev=LnameRev+char\n",
    "\n",
    "#Print the reverse of first and reverse of Last name with a space in between\n",
    "print('The reversed name is: ', FnameRev, LnameRev)\n"
   ]
  },
  {
   "cell_type": "code",
   "execution_count": 9,
   "metadata": {},
   "outputs": [
    {
     "name": "stdout",
     "output_type": "stream",
     "text": [
      "Volume of the Sphere with diametere 12cm is :  904.7786842338604\n"
     ]
    }
   ],
   "source": [
    "'''Program to find the volume of a sphere whose diameter is 12cm'''\n",
    "#Use Math library to get the value of 'pi'\n",
    "#diam is the variable for diameter, rad is the radius which is half of diameter. \n",
    "import math\n",
    "diam=12\n",
    "rad=diam/2\n",
    "\n",
    "# Calculate the volume with the formula given\n",
    "volume=4/3*math.pi*rad*rad*rad\n",
    "print('Volume of the Sphere with diametere 12cm is : ', volume)"
   ]
  },
  {
   "cell_type": "code",
   "execution_count": null,
   "metadata": {},
   "outputs": [],
   "source": []
  }
 ],
 "metadata": {
  "kernelspec": {
   "display_name": "Python 3",
   "language": "python",
   "name": "python3"
  },
  "language_info": {
   "codemirror_mode": {
    "name": "ipython",
    "version": 3
   },
   "file_extension": ".py",
   "mimetype": "text/x-python",
   "name": "python",
   "nbconvert_exporter": "python",
   "pygments_lexer": "ipython3",
   "version": "3.6.5"
  }
 },
 "nbformat": 4,
 "nbformat_minor": 2
}
